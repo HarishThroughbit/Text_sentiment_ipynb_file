{
 "cells": [
  {
   "cell_type": "code",
   "execution_count": 11,
   "id": "abe1703a",
   "metadata": {},
   "outputs": [
    {
     "data": {
      "text/html": [
       "<div>\n",
       "<style scoped>\n",
       "    .dataframe tbody tr th:only-of-type {\n",
       "        vertical-align: middle;\n",
       "    }\n",
       "\n",
       "    .dataframe tbody tr th {\n",
       "        vertical-align: top;\n",
       "    }\n",
       "\n",
       "    .dataframe thead th {\n",
       "        text-align: right;\n",
       "    }\n",
       "</style>\n",
       "<table border=\"1\" class=\"dataframe\">\n",
       "  <thead>\n",
       "    <tr style=\"text-align: right;\">\n",
       "      <th></th>\n",
       "      <th>url</th>\n",
       "      <th>title</th>\n",
       "      <th>text</th>\n",
       "      <th>html</th>\n",
       "      <th>year</th>\n",
       "      <th>author</th>\n",
       "      <th>source</th>\n",
       "    </tr>\n",
       "  </thead>\n",
       "  <tbody>\n",
       "    <tr>\n",
       "      <th>0</th>\n",
       "      <td>https://www.ccn.com/bitcoin-price-update-will-...</td>\n",
       "      <td>Bitcoin Price Update: Will China Lead us Down?</td>\n",
       "      <td>Bitcoin Priced in USD on Mt. GoxAbove is Gox p...</td>\n",
       "      <td>&lt;figure id=\"attachment_4090\" style=\"width: 838...</td>\n",
       "      <td>2013</td>\n",
       "      <td>Gordon Hall</td>\n",
       "      <td>altcoin_analysis</td>\n",
       "    </tr>\n",
       "    <tr>\n",
       "      <th>1</th>\n",
       "      <td>https://www.ccn.com/key-bitcoin-price-levels-w...</td>\n",
       "      <td>Key Bitcoin Price Levels for Week 51 (15 – 22 ...</td>\n",
       "      <td>The Bitcoin price up to 2013/12/14, with Fib l...</td>\n",
       "      <td>&lt;figure id=\"attachment_3961\" style=\"width: 838...</td>\n",
       "      <td>2013</td>\n",
       "      <td>Gordon Hall</td>\n",
       "      <td>altcoin_analysis</td>\n",
       "    </tr>\n",
       "    <tr>\n",
       "      <th>2</th>\n",
       "      <td>https://www.ccn.com/national-australia-bank-ci...</td>\n",
       "      <td>National Australia Bank, Citing Highly Flawed ...</td>\n",
       "      <td>National Australia Bank looms over Melbourne’s...</td>\n",
       "      <td>&lt;figure id=\"attachment_5011\" style=\"width: 750...</td>\n",
       "      <td>2013</td>\n",
       "      <td>Gordon Hall</td>\n",
       "      <td>altcoin_analysis</td>\n",
       "    </tr>\n",
       "    <tr>\n",
       "      <th>3</th>\n",
       "      <td>https://www.ccn.com/chinese-banking-ban-bitcoi...</td>\n",
       "      <td>Chinese Bitcoin Ban Driven by  Chinese Banking...</td>\n",
       "      <td>Recent reports from China indicate there may b...</td>\n",
       "      <td>&lt;p&gt;&lt;span style=\"line-height: 1.5em;\"&gt;Recent re...</td>\n",
       "      <td>2013</td>\n",
       "      <td>Jonas Borchgrevink</td>\n",
       "      <td>altcoin_analysis</td>\n",
       "    </tr>\n",
       "    <tr>\n",
       "      <th>4</th>\n",
       "      <td>https://www.ccn.com/bitcoin-trade-update-opene...</td>\n",
       "      <td>Bitcoin Trade Update: Opened Position</td>\n",
       "      <td>Opened 1st Bitcoin trade position, price curre...</td>\n",
       "      <td>&lt;figure id=\"attachment_4921\" style=\"width: 750...</td>\n",
       "      <td>2013</td>\n",
       "      <td>Gordon Hall</td>\n",
       "      <td>altcoin_analysis</td>\n",
       "    </tr>\n",
       "    <tr>\n",
       "      <th>5</th>\n",
       "      <td>https://www.ccn.com/key-bitcoin-price-levels-w...</td>\n",
       "      <td>Key Bitcoin Price Levels for Week 52 (22 – 28 ...</td>\n",
       "      <td>Gox Bitcoin Price, Volume, Fib Levels, trendli...</td>\n",
       "      <td>&lt;figure id=\"attachment_4520\" style=\"width: 192...</td>\n",
       "      <td>2013</td>\n",
       "      <td>Gordon Hall</td>\n",
       "      <td>altcoin_analysis</td>\n",
       "    </tr>\n",
       "    <tr>\n",
       "      <th>6</th>\n",
       "      <td>https://www.ccn.com/bitcoin-survival/</td>\n",
       "      <td>Bitcoin Survival</td>\n",
       "      <td>Bitcoin was the means for Satoshi Nakamoto to ...</td>\n",
       "      <td>&lt;p&gt;Bitcoin was the means for Satoshi Nakamoto ...</td>\n",
       "      <td>2013</td>\n",
       "      <td>Paul Carrozzo</td>\n",
       "      <td>altcoin_analysis</td>\n",
       "    </tr>\n",
       "    <tr>\n",
       "      <th>7</th>\n",
       "      <td>https://www.ccn.com/massive-bitcoin-sell-going/</td>\n",
       "      <td>Massive Bitcoin Sell Going On</td>\n",
       "      <td>Today we have seen a couple of massive sells t...</td>\n",
       "      <td>&lt;p&gt;Today we have seen a couple of massive sell...</td>\n",
       "      <td>2013</td>\n",
       "      <td>Jonas Borchgrevink</td>\n",
       "      <td>altcoin_analysis</td>\n",
       "    </tr>\n",
       "    <tr>\n",
       "      <th>8</th>\n",
       "      <td>https://www.ccn.com/bitcoin-will-rise-monday-2...</td>\n",
       "      <td>Why Bitcoin will rise on Monday 23rd by more t...</td>\n",
       "      <td>Bitcoin has a tendency to spike on Monday and ...</td>\n",
       "      <td>&lt;p&gt;Bitcoin has a tendency to spike on Monday a...</td>\n",
       "      <td>2013</td>\n",
       "      <td>Jonas Borchgrevink</td>\n",
       "      <td>altcoin_analysis</td>\n",
       "    </tr>\n",
       "    <tr>\n",
       "      <th>9</th>\n",
       "      <td>https://www.ccn.com/why-bitcoin-is-falling-and...</td>\n",
       "      <td>Why Bitcoin is falling, and will rise again</td>\n",
       "      <td>Why Bitcoin is FallingThe Bitcoin price has ta...</td>\n",
       "      <td>&lt;figure id=\"attachment_4086\" style=\"width: 872...</td>\n",
       "      <td>2013</td>\n",
       "      <td>Jonas Borchgrevink</td>\n",
       "      <td>altcoin_analysis</td>\n",
       "    </tr>\n",
       "    <tr>\n",
       "      <th>10</th>\n",
       "      <td>https://www.ccn.com/bitcoin-price-2014/</td>\n",
       "      <td>Bitcoin Price in 2014</td>\n",
       "      <td>Mystery Chart showing Bitcoin price in USD on ...</td>\n",
       "      <td>&lt;figure id=\"attachment_5117\" style=\"width: 750...</td>\n",
       "      <td>2013</td>\n",
       "      <td>Gordon Hall</td>\n",
       "      <td>altcoin_analysis</td>\n",
       "    </tr>\n",
       "    <tr>\n",
       "      <th>11</th>\n",
       "      <td>https://www.ccn.com/probably-best-time-invest-...</td>\n",
       "      <td>This is probably the best time to invest in Bi...</td>\n",
       "      <td>The Bitcoin price took a heavy hit today becau...</td>\n",
       "      <td>&lt;h2&gt;&lt;a href=\"https://248qms3nhmvl15d4ne1i4pxl-...</td>\n",
       "      <td>2013</td>\n",
       "      <td>Jonas Borchgrevink</td>\n",
       "      <td>altcoin_analysis</td>\n",
       "    </tr>\n",
       "    <tr>\n",
       "      <th>12</th>\n",
       "      <td>https://www.ccn.com/valuation-cryptocurrency/</td>\n",
       "      <td>Comparing Bitcoins and Oranges</td>\n",
       "      <td>When it comes to valuation of any commodity th...</td>\n",
       "      <td>&lt;p&gt;&amp;nbsp;&lt;/p&gt;&lt;p&gt;When it comes to valuation of ...</td>\n",
       "      <td>2013</td>\n",
       "      <td>Paul Carrozzo</td>\n",
       "      <td>altcoin_analysis</td>\n",
       "    </tr>\n",
       "    <tr>\n",
       "      <th>13</th>\n",
       "      <td>https://www.ccn.com/key-bitcoin-price-levels-w...</td>\n",
       "      <td>Key Bitcoin Price Levels for the Week Ahead</td>\n",
       "      <td>This daily chart (price data courtesy of Bitco...</td>\n",
       "      <td>&lt;p&gt;This daily chart (price data courtesy of &lt;a...</td>\n",
       "      <td>2013</td>\n",
       "      <td>Gordon Hall</td>\n",
       "      <td>altcoin_analysis</td>\n",
       "    </tr>\n",
       "    <tr>\n",
       "      <th>14</th>\n",
       "      <td>https://www.ccn.com/2014-bitcoin-war-started-b...</td>\n",
       "      <td>The 2014 Bitcoin War Has Started— And it is Bo...</td>\n",
       "      <td>When Brock Pierce said,  \"2014 will be the yea...</td>\n",
       "      <td>&lt;p&gt;When Brock Pierce said,  &amp;#8220;2014 will b...</td>\n",
       "      <td>2013</td>\n",
       "      <td>Jonas Borchgrevink</td>\n",
       "      <td>altcoin_analysis</td>\n",
       "    </tr>\n",
       "    <tr>\n",
       "      <th>15</th>\n",
       "      <td>https://www.ccn.com/two-new-bitcoin-asic-miner...</td>\n",
       "      <td>Two new Bitcoin ASIC Miners : Scam or Real?</td>\n",
       "      <td>As we are all aware of, if you want to keep on...</td>\n",
       "      <td>&lt;p&gt;As we are all aware of, if you want to keep...</td>\n",
       "      <td>2013</td>\n",
       "      <td>Jonas Borchgrevink</td>\n",
       "      <td>altcoin_mining</td>\n",
       "    </tr>\n",
       "    <tr>\n",
       "      <th>16</th>\n",
       "      <td>https://www.ccn.com/kncminer-announces-2ths-bi...</td>\n",
       "      <td>KnCMiner Announces 2TH/s Bitcoin ASIC Miner</td>\n",
       "      <td>The date is November 26th, 2013 and KnCMiner, ...</td>\n",
       "      <td>&lt;p&gt;The date is November 26th, 2013 and KnCMine...</td>\n",
       "      <td>2013</td>\n",
       "      <td>Jesús Cripto</td>\n",
       "      <td>altcoin_mining</td>\n",
       "    </tr>\n",
       "    <tr>\n",
       "      <th>17</th>\n",
       "      <td>https://www.ccn.com/psa-fall-apple-bitcoin-min...</td>\n",
       "      <td>PSA: Do Not Fall for the Apple Bitcoin Miner Hoax</td>\n",
       "      <td>This will erase everything from your computer....</td>\n",
       "      <td>&lt;figure id=\"attachment_4027\" style=\"width: 300...</td>\n",
       "      <td>2013</td>\n",
       "      <td>Neil Sardesai</td>\n",
       "      <td>altcoin_mining</td>\n",
       "    </tr>\n",
       "    <tr>\n",
       "      <th>18</th>\n",
       "      <td>https://www.ccn.com/breaking-news-hashcows-min...</td>\n",
       "      <td>Breaking News: HashCows Mining Pool Hacked</td>\n",
       "      <td>HashCows is one of those mining pools that aut...</td>\n",
       "      <td>&lt;p&gt;&lt;a title=\"HashCows\" href=\"https://hashco.ws...</td>\n",
       "      <td>2013</td>\n",
       "      <td>Neil Sardesai</td>\n",
       "      <td>altcoin_mining</td>\n",
       "    </tr>\n",
       "    <tr>\n",
       "      <th>19</th>\n",
       "      <td>https://www.ccn.com/primecoin-cloud-mining-usi...</td>\n",
       "      <td>Primecoin Cloud Mining using Digital Ocean – T...</td>\n",
       "      <td>Primecoin Mining is still mainly done on CPUs,...</td>\n",
       "      <td>&lt;p&gt;Primecoin Mining is still mainly done on CP...</td>\n",
       "      <td>2013</td>\n",
       "      <td>Jesús Cripto</td>\n",
       "      <td>altcoin_mining</td>\n",
       "    </tr>\n",
       "    <tr>\n",
       "      <th>20</th>\n",
       "      <td>https://www.ccn.com/get-custom-bitcoin-address/</td>\n",
       "      <td>How to Get a Custom Bitcoin Address</td>\n",
       "      <td>Bitcoin address tend to be random and cryptic....</td>\n",
       "      <td>&lt;p&gt;Bitcoin address tend to be random and crypt...</td>\n",
       "      <td>2013</td>\n",
       "      <td>Neil Sardesai</td>\n",
       "      <td>altcoin_mining</td>\n",
       "    </tr>\n",
       "    <tr>\n",
       "      <th>21</th>\n",
       "      <td>https://www.ccn.com/us-department-treasury-iss...</td>\n",
       "      <td>The US Department of Treasury issues a Bitcoin...</td>\n",
       "      <td>FinCEN, The US Department of Treasury Financia...</td>\n",
       "      <td>&lt;p&gt;&lt;a href=\"http://www.fincen.gov/\" target=\"_b...</td>\n",
       "      <td>2013</td>\n",
       "      <td>Jonas Borchgrevink</td>\n",
       "      <td>altcoin_mining</td>\n",
       "    </tr>\n",
       "    <tr>\n",
       "      <th>22</th>\n",
       "      <td>https://www.ccn.com/breaking-news-online-dogec...</td>\n",
       "      <td>Breaking News: Online Dogecoin Wallets Hacked</td>\n",
       "      <td>Instadoge.net defaced with this picture, along...</td>\n",
       "      <td>&lt;p style=\"text-align: center;\"&gt;&lt;a href=\"https:...</td>\n",
       "      <td>2013</td>\n",
       "      <td>Gordon Hall</td>\n",
       "      <td>altcoin_news</td>\n",
       "    </tr>\n",
       "    <tr>\n",
       "      <th>23</th>\n",
       "      <td>https://www.ccn.com/cryptocoin-mining-caused-w...</td>\n",
       "      <td>Cryptocoin Mining has Caused a Worldwide Short...</td>\n",
       "      <td>Bright Side of News recently published an arti...</td>\n",
       "      <td>&lt;p&gt;Bright Side of News recently published an a...</td>\n",
       "      <td>2013</td>\n",
       "      <td>Jesús Cripto</td>\n",
       "      <td>altcoin_news</td>\n",
       "    </tr>\n",
       "    <tr>\n",
       "      <th>24</th>\n",
       "      <td>https://www.ccn.com/meme-currency-future-crypt...</td>\n",
       "      <td>Meme Currency and the Future of Cryptocoins</td>\n",
       "      <td>If, in the year 2012, I told you that there wo...</td>\n",
       "      <td>&lt;p&gt;If, in the year 2012, I told you that there...</td>\n",
       "      <td>2013</td>\n",
       "      <td>Jonas Borchgrevink</td>\n",
       "      <td>altcoin_news</td>\n",
       "    </tr>\n",
       "  </tbody>\n",
       "</table>\n",
       "</div>"
      ],
      "text/plain": [
       "                                                  url   \n",
       "0   https://www.ccn.com/bitcoin-price-update-will-...  \\\n",
       "1   https://www.ccn.com/key-bitcoin-price-levels-w...   \n",
       "2   https://www.ccn.com/national-australia-bank-ci...   \n",
       "3   https://www.ccn.com/chinese-banking-ban-bitcoi...   \n",
       "4   https://www.ccn.com/bitcoin-trade-update-opene...   \n",
       "5   https://www.ccn.com/key-bitcoin-price-levels-w...   \n",
       "6               https://www.ccn.com/bitcoin-survival/   \n",
       "7     https://www.ccn.com/massive-bitcoin-sell-going/   \n",
       "8   https://www.ccn.com/bitcoin-will-rise-monday-2...   \n",
       "9   https://www.ccn.com/why-bitcoin-is-falling-and...   \n",
       "10            https://www.ccn.com/bitcoin-price-2014/   \n",
       "11  https://www.ccn.com/probably-best-time-invest-...   \n",
       "12      https://www.ccn.com/valuation-cryptocurrency/   \n",
       "13  https://www.ccn.com/key-bitcoin-price-levels-w...   \n",
       "14  https://www.ccn.com/2014-bitcoin-war-started-b...   \n",
       "15  https://www.ccn.com/two-new-bitcoin-asic-miner...   \n",
       "16  https://www.ccn.com/kncminer-announces-2ths-bi...   \n",
       "17  https://www.ccn.com/psa-fall-apple-bitcoin-min...   \n",
       "18  https://www.ccn.com/breaking-news-hashcows-min...   \n",
       "19  https://www.ccn.com/primecoin-cloud-mining-usi...   \n",
       "20    https://www.ccn.com/get-custom-bitcoin-address/   \n",
       "21  https://www.ccn.com/us-department-treasury-iss...   \n",
       "22  https://www.ccn.com/breaking-news-online-dogec...   \n",
       "23  https://www.ccn.com/cryptocoin-mining-caused-w...   \n",
       "24  https://www.ccn.com/meme-currency-future-crypt...   \n",
       "\n",
       "                                                title   \n",
       "0      Bitcoin Price Update: Will China Lead us Down?  \\\n",
       "1   Key Bitcoin Price Levels for Week 51 (15 – 22 ...   \n",
       "2   National Australia Bank, Citing Highly Flawed ...   \n",
       "3   Chinese Bitcoin Ban Driven by  Chinese Banking...   \n",
       "4               Bitcoin Trade Update: Opened Position   \n",
       "5   Key Bitcoin Price Levels for Week 52 (22 – 28 ...   \n",
       "6                                    Bitcoin Survival   \n",
       "7                       Massive Bitcoin Sell Going On   \n",
       "8   Why Bitcoin will rise on Monday 23rd by more t...   \n",
       "9         Why Bitcoin is falling, and will rise again   \n",
       "10                              Bitcoin Price in 2014   \n",
       "11  This is probably the best time to invest in Bi...   \n",
       "12                     Comparing Bitcoins and Oranges   \n",
       "13        Key Bitcoin Price Levels for the Week Ahead   \n",
       "14  The 2014 Bitcoin War Has Started— And it is Bo...   \n",
       "15        Two new Bitcoin ASIC Miners : Scam or Real?   \n",
       "16        KnCMiner Announces 2TH/s Bitcoin ASIC Miner   \n",
       "17  PSA: Do Not Fall for the Apple Bitcoin Miner Hoax   \n",
       "18         Breaking News: HashCows Mining Pool Hacked   \n",
       "19  Primecoin Cloud Mining using Digital Ocean – T...   \n",
       "20                How to Get a Custom Bitcoin Address   \n",
       "21  The US Department of Treasury issues a Bitcoin...   \n",
       "22      Breaking News: Online Dogecoin Wallets Hacked   \n",
       "23  Cryptocoin Mining has Caused a Worldwide Short...   \n",
       "24        Meme Currency and the Future of Cryptocoins   \n",
       "\n",
       "                                                 text   \n",
       "0   Bitcoin Priced in USD on Mt. GoxAbove is Gox p...  \\\n",
       "1   The Bitcoin price up to 2013/12/14, with Fib l...   \n",
       "2   National Australia Bank looms over Melbourne’s...   \n",
       "3   Recent reports from China indicate there may b...   \n",
       "4   Opened 1st Bitcoin trade position, price curre...   \n",
       "5   Gox Bitcoin Price, Volume, Fib Levels, trendli...   \n",
       "6   Bitcoin was the means for Satoshi Nakamoto to ...   \n",
       "7   Today we have seen a couple of massive sells t...   \n",
       "8   Bitcoin has a tendency to spike on Monday and ...   \n",
       "9   Why Bitcoin is FallingThe Bitcoin price has ta...   \n",
       "10  Mystery Chart showing Bitcoin price in USD on ...   \n",
       "11  The Bitcoin price took a heavy hit today becau...   \n",
       "12  When it comes to valuation of any commodity th...   \n",
       "13  This daily chart (price data courtesy of Bitco...   \n",
       "14  When Brock Pierce said,  \"2014 will be the yea...   \n",
       "15  As we are all aware of, if you want to keep on...   \n",
       "16  The date is November 26th, 2013 and KnCMiner, ...   \n",
       "17  This will erase everything from your computer....   \n",
       "18  HashCows is one of those mining pools that aut...   \n",
       "19  Primecoin Mining is still mainly done on CPUs,...   \n",
       "20  Bitcoin address tend to be random and cryptic....   \n",
       "21  FinCEN, The US Department of Treasury Financia...   \n",
       "22  Instadoge.net defaced with this picture, along...   \n",
       "23  Bright Side of News recently published an arti...   \n",
       "24  If, in the year 2012, I told you that there wo...   \n",
       "\n",
       "                                                 html  year   \n",
       "0   <figure id=\"attachment_4090\" style=\"width: 838...  2013  \\\n",
       "1   <figure id=\"attachment_3961\" style=\"width: 838...  2013   \n",
       "2   <figure id=\"attachment_5011\" style=\"width: 750...  2013   \n",
       "3   <p><span style=\"line-height: 1.5em;\">Recent re...  2013   \n",
       "4   <figure id=\"attachment_4921\" style=\"width: 750...  2013   \n",
       "5   <figure id=\"attachment_4520\" style=\"width: 192...  2013   \n",
       "6   <p>Bitcoin was the means for Satoshi Nakamoto ...  2013   \n",
       "7   <p>Today we have seen a couple of massive sell...  2013   \n",
       "8   <p>Bitcoin has a tendency to spike on Monday a...  2013   \n",
       "9   <figure id=\"attachment_4086\" style=\"width: 872...  2013   \n",
       "10  <figure id=\"attachment_5117\" style=\"width: 750...  2013   \n",
       "11  <h2><a href=\"https://248qms3nhmvl15d4ne1i4pxl-...  2013   \n",
       "12  <p>&nbsp;</p><p>When it comes to valuation of ...  2013   \n",
       "13  <p>This daily chart (price data courtesy of <a...  2013   \n",
       "14  <p>When Brock Pierce said,  &#8220;2014 will b...  2013   \n",
       "15  <p>As we are all aware of, if you want to keep...  2013   \n",
       "16  <p>The date is November 26th, 2013 and KnCMine...  2013   \n",
       "17  <figure id=\"attachment_4027\" style=\"width: 300...  2013   \n",
       "18  <p><a title=\"HashCows\" href=\"https://hashco.ws...  2013   \n",
       "19  <p>Primecoin Mining is still mainly done on CP...  2013   \n",
       "20  <p>Bitcoin address tend to be random and crypt...  2013   \n",
       "21  <p><a href=\"http://www.fincen.gov/\" target=\"_b...  2013   \n",
       "22  <p style=\"text-align: center;\"><a href=\"https:...  2013   \n",
       "23  <p>Bright Side of News recently published an a...  2013   \n",
       "24  <p>If, in the year 2012, I told you that there...  2013   \n",
       "\n",
       "                author            source  \n",
       "0          Gordon Hall  altcoin_analysis  \n",
       "1          Gordon Hall  altcoin_analysis  \n",
       "2          Gordon Hall  altcoin_analysis  \n",
       "3   Jonas Borchgrevink  altcoin_analysis  \n",
       "4          Gordon Hall  altcoin_analysis  \n",
       "5          Gordon Hall  altcoin_analysis  \n",
       "6        Paul Carrozzo  altcoin_analysis  \n",
       "7   Jonas Borchgrevink  altcoin_analysis  \n",
       "8   Jonas Borchgrevink  altcoin_analysis  \n",
       "9   Jonas Borchgrevink  altcoin_analysis  \n",
       "10         Gordon Hall  altcoin_analysis  \n",
       "11  Jonas Borchgrevink  altcoin_analysis  \n",
       "12       Paul Carrozzo  altcoin_analysis  \n",
       "13         Gordon Hall  altcoin_analysis  \n",
       "14  Jonas Borchgrevink  altcoin_analysis  \n",
       "15  Jonas Borchgrevink    altcoin_mining  \n",
       "16        Jesús Cripto    altcoin_mining  \n",
       "17       Neil Sardesai    altcoin_mining  \n",
       "18       Neil Sardesai    altcoin_mining  \n",
       "19        Jesús Cripto    altcoin_mining  \n",
       "20       Neil Sardesai    altcoin_mining  \n",
       "21  Jonas Borchgrevink    altcoin_mining  \n",
       "22         Gordon Hall      altcoin_news  \n",
       "23        Jesús Cripto      altcoin_news  \n",
       "24  Jonas Borchgrevink      altcoin_news  "
      ]
     },
     "execution_count": 11,
     "metadata": {},
     "output_type": "execute_result"
    }
   ],
   "source": [
    "import pandas as pd\n",
    "df= pd.read_csv(r'D:\\Thorughbit\\Crypto news dataset\\crypto_news_parsed_2013-2017_train.csv')\n",
    "df.head(25)"
   ]
  },
  {
   "cell_type": "code",
   "execution_count": 5,
   "id": "f3fe23ed",
   "metadata": {},
   "outputs": [
    {
     "data": {
      "text/plain": [
       "0        Bitcoin Priced in USD on Mt. GoxAbove is Gox p...\n",
       "1        The Bitcoin price up to 2013/12/14, with Fib l...\n",
       "2        National Australia Bank looms over Melbourne’s...\n",
       "3        Recent reports from China indicate there may b...\n",
       "4        Opened 1st Bitcoin trade position, price curre...\n",
       "                               ...                        \n",
       "28064    A modern human being has to remember dozens of...\n",
       "28065    A former U. S. Secret Service agent who was se...\n",
       "28066    The head of Shanghai’s Financial Service Offic...\n",
       "28067    Crypto-currency experts are punting bitcoin pr...\n",
       "28068    Gavin Andresen, who has largely retired from B...\n",
       "Name: text, Length: 28069, dtype: object"
      ]
     },
     "execution_count": 5,
     "metadata": {},
     "output_type": "execute_result"
    }
   ],
   "source": [
    "news=df['text']\n",
    "news"
   ]
  },
  {
   "cell_type": "code",
   "execution_count": 8,
   "id": "fb13bdf6",
   "metadata": {},
   "outputs": [
    {
     "name": "stdout",
     "output_type": "stream",
     "text": [
      "<class 'pandas.core.frame.DataFrame'>\n",
      "RangeIndex: 28069 entries, 0 to 28068\n",
      "Data columns (total 7 columns):\n",
      " #   Column  Non-Null Count  Dtype \n",
      "---  ------  --------------  ----- \n",
      " 0   url     28069 non-null  object\n",
      " 1   title   28069 non-null  object\n",
      " 2   text    28066 non-null  object\n",
      " 3   html    28069 non-null  object\n",
      " 4   year    28069 non-null  int64 \n",
      " 5   author  28069 non-null  object\n",
      " 6   source  28069 non-null  object\n",
      "dtypes: int64(1), object(6)\n",
      "memory usage: 1.5+ MB\n"
     ]
    }
   ],
   "source": [
    "df.info()"
   ]
  },
  {
   "cell_type": "code",
   "execution_count": 7,
   "id": "753427a3",
   "metadata": {},
   "outputs": [
    {
     "name": "stderr",
     "output_type": "stream",
     "text": [
      "No model was supplied, defaulted to facebook/bart-large-mnli and revision c626438 (https://huggingface.co/facebook/bart-large-mnli).\n",
      "Using a pipeline without specifying a model name and revision in production is not recommended.\n"
     ]
    },
    {
     "data": {
      "application/vnd.jupyter.widget-view+json": {
       "model_id": "410f3d5a163d426d97cc1887861c0cf7",
       "version_major": 2,
       "version_minor": 0
      },
      "text/plain": [
       "Downloading (…)lve/main/config.json:   0%|          | 0.00/1.15k [00:00<?, ?B/s]"
      ]
     },
     "metadata": {},
     "output_type": "display_data"
    },
    {
     "name": "stderr",
     "output_type": "stream",
     "text": [
      "C:\\Users\\Dell\\.conda\\envs\\newenv\\lib\\site-packages\\huggingface_hub\\file_download.py:133: UserWarning: `huggingface_hub` cache-system uses symlinks by default to efficiently store duplicated files but your machine does not support them in C:\\Users\\Dell\\.cache\\huggingface\\hub. Caching files will still work but in a degraded version that might require more space on your disk. This warning can be disabled by setting the `HF_HUB_DISABLE_SYMLINKS_WARNING` environment variable. For more details, see https://huggingface.co/docs/huggingface_hub/how-to-cache#limitations.\n",
      "To support symlinks on Windows, you either need to activate Developer Mode or to run Python as an administrator. In order to see activate developer mode, see this article: https://docs.microsoft.com/en-us/windows/apps/get-started/enable-your-device-for-development\n",
      "  warnings.warn(message)\n"
     ]
    },
    {
     "data": {
      "application/vnd.jupyter.widget-view+json": {
       "model_id": "0fed043aac1545b7abec8a9426bbac7d",
       "version_major": 2,
       "version_minor": 0
      },
      "text/plain": [
       "Downloading pytorch_model.bin:   0%|          | 0.00/1.63G [00:00<?, ?B/s]"
      ]
     },
     "metadata": {},
     "output_type": "display_data"
    },
    {
     "data": {
      "application/vnd.jupyter.widget-view+json": {
       "model_id": "8de66c250073443c952338213c72f527",
       "version_major": 2,
       "version_minor": 0
      },
      "text/plain": [
       "Downloading (…)okenizer_config.json:   0%|          | 0.00/26.0 [00:00<?, ?B/s]"
      ]
     },
     "metadata": {},
     "output_type": "display_data"
    },
    {
     "data": {
      "application/vnd.jupyter.widget-view+json": {
       "model_id": "56066fb106f1470d9da319d936ba4a61",
       "version_major": 2,
       "version_minor": 0
      },
      "text/plain": [
       "Downloading (…)olve/main/vocab.json:   0%|          | 0.00/899k [00:00<?, ?B/s]"
      ]
     },
     "metadata": {},
     "output_type": "display_data"
    },
    {
     "data": {
      "application/vnd.jupyter.widget-view+json": {
       "model_id": "fc6c60a921854dac986d3fc43c31ed13",
       "version_major": 2,
       "version_minor": 0
      },
      "text/plain": [
       "Downloading (…)olve/main/merges.txt:   0%|          | 0.00/456k [00:00<?, ?B/s]"
      ]
     },
     "metadata": {},
     "output_type": "display_data"
    },
    {
     "data": {
      "application/vnd.jupyter.widget-view+json": {
       "model_id": "733e2a0a45154695ac35b8e51f09b130",
       "version_major": 2,
       "version_minor": 0
      },
      "text/plain": [
       "Downloading (…)/main/tokenizer.json:   0%|          | 0.00/1.36M [00:00<?, ?B/s]"
      ]
     },
     "metadata": {},
     "output_type": "display_data"
    }
   ],
   "source": [
    "from transformers import pipeline\n",
    "classifier = pipeline('zero-shot-classification')"
   ]
  },
  {
   "cell_type": "code",
   "execution_count": 12,
   "id": "7f470505",
   "metadata": {},
   "outputs": [
    {
     "data": {
      "text/plain": [
       "[{'sequence': 'Bitcoin has a tendency to spike on Monday and Tuesdays after a quiet weekend with little news. \\n            New money is flowing into the different Bitcoin-exchanges and people want more action. \\n            This time it is a bit special since its the little Christmas eve. I believe that Bitcoin might \\n            rise with more than 10% on Monday. Will Bitcoin rise to 700 USD? As you can see from the graph above, the \\n            lowest price-level of Bitcoin looks like to be around 580 USD per Bitcoin. The Bitcoin trend seems to have \\n            turned upwards after hitting the low of 560 USD per Bitcoin late December 21st. Then it charged back up to \\n            around 660 to 680 USD per Bitcoin in mid December 22nd. Now we are back down to 614 USD which may be the \\n            lowest we will go this coming week. My personal guess is that the Bitcoin-price will be 680 USD per Bitcoin \\n            or even more on Monday 23rd. We could be looking at a price above 700 USD as well.',\n",
       "  'labels': ['positive', 'negative'],\n",
       "  'scores': [0.5888972878456116, 0.4111027419567108]}]"
      ]
     },
     "execution_count": 12,
     "metadata": {},
     "output_type": "execute_result"
    }
   ],
   "source": [
    "input_text=['''Bitcoin has a tendency to spike on Monday and Tuesdays after a quiet weekend with little news. \n",
    "            New money is flowing into the different Bitcoin-exchanges and people want more action. \n",
    "            This time it is a bit special since its the little Christmas eve. I believe that Bitcoin might \n",
    "            rise with more than 10% on Monday. Will Bitcoin rise to 700 USD? As you can see from the graph above, the \n",
    "            lowest price-level of Bitcoin looks like to be around 580 USD per Bitcoin. The Bitcoin trend seems to have \n",
    "            turned upwards after hitting the low of 560 USD per Bitcoin late December 21st. Then it charged back up to \n",
    "            around 660 to 680 USD per Bitcoin in mid December 22nd. Now we are back down to 614 USD which may be the \n",
    "            lowest we will go this coming week. My personal guess is that the Bitcoin-price will be 680 USD per Bitcoin \n",
    "            or even more on Monday 23rd. We could be looking at a price above 700 USD as well.''']\n",
    "\n",
    "candidate_labels=['negative','positive']\n",
    "\n",
    "classifier(input_text,candidate_labels)"
   ]
  },
  {
   "cell_type": "code",
   "execution_count": 21,
   "id": "b65699fc",
   "metadata": {},
   "outputs": [
    {
     "name": "stderr",
     "output_type": "stream",
     "text": [
      "No model was supplied, defaulted to facebook/bart-large-mnli and revision c626438 (https://huggingface.co/facebook/bart-large-mnli).\n",
      "Using a pipeline without specifying a model name and revision in production is not recommended.\n"
     ]
    },
    {
     "name": "stdout",
     "output_type": "stream",
     "text": [
      "Results for Candidate Set 1:\n"
     ]
    },
    {
     "ename": "TypeError",
     "evalue": "list indices must be integers or slices, not str",
     "output_type": "error",
     "traceback": [
      "\u001b[1;31m---------------------------------------------------------------------------\u001b[0m",
      "\u001b[1;31mTypeError\u001b[0m                                 Traceback (most recent call last)",
      "Cell \u001b[1;32mIn[21], line 22\u001b[0m\n\u001b[0;32m     19\u001b[0m results_set2 \u001b[38;5;241m=\u001b[39m classifier(input_text, candidate_labels\u001b[38;5;241m=\u001b[39mcandidate_labels_set2, multi_label\u001b[38;5;241m=\u001b[39m\u001b[38;5;28;01mTrue\u001b[39;00m)\n\u001b[0;32m     21\u001b[0m \u001b[38;5;28mprint\u001b[39m(\u001b[38;5;124m\"\u001b[39m\u001b[38;5;124mResults for Candidate Set 1:\u001b[39m\u001b[38;5;124m\"\u001b[39m)\n\u001b[1;32m---> 22\u001b[0m \u001b[38;5;28;01mfor\u001b[39;00m label, score \u001b[38;5;129;01min\u001b[39;00m \u001b[38;5;28mzip\u001b[39m(\u001b[43mresults_set1\u001b[49m\u001b[43m[\u001b[49m\u001b[38;5;124;43m'\u001b[39;49m\u001b[38;5;124;43mlabels\u001b[39;49m\u001b[38;5;124;43m'\u001b[39;49m\u001b[43m]\u001b[49m, results_set1[\u001b[38;5;124m'\u001b[39m\u001b[38;5;124mscores\u001b[39m\u001b[38;5;124m'\u001b[39m]):\n\u001b[0;32m     23\u001b[0m     \u001b[38;5;28mprint\u001b[39m(\u001b[38;5;124mf\u001b[39m\u001b[38;5;124m\"\u001b[39m\u001b[38;5;124mLabel: \u001b[39m\u001b[38;5;132;01m{\u001b[39;00mlabel\u001b[38;5;132;01m}\u001b[39;00m\u001b[38;5;124m, Score: \u001b[39m\u001b[38;5;132;01m{\u001b[39;00mscore\u001b[38;5;132;01m:\u001b[39;00m\u001b[38;5;124m.4f\u001b[39m\u001b[38;5;132;01m}\u001b[39;00m\u001b[38;5;124m\"\u001b[39m)\n\u001b[0;32m     25\u001b[0m \u001b[38;5;28mprint\u001b[39m(\u001b[38;5;124m\"\u001b[39m\u001b[38;5;130;01m\\n\u001b[39;00m\u001b[38;5;124mResults for Candidate Set 2:\u001b[39m\u001b[38;5;124m\"\u001b[39m)\n",
      "\u001b[1;31mTypeError\u001b[0m: list indices must be integers or slices, not str"
     ]
    }
   ],
   "source": [
    "from transformers import pipeline\n",
    "\n",
    "classifier = pipeline('zero-shot-classification')\n",
    "\n",
    "input_text = ['''Bitcoin has a tendency to spike on Monday and Tuesdays after a quiet weekend with little news. \n",
    "            New money is flowing into the different Bitcoin-exchanges and people want more action. \n",
    "            This time it is a bit special since its the little Christmas eve. I believe that Bitcoin might \n",
    "            rise with more than 10% on Monday. Will Bitcoin rise to 700 USD? As you can see from the graph above, the \n",
    "            lowest price-level of Bitcoin looks like to be around 580 USD per Bitcoin. The Bitcoin trend seems to have \n",
    "            turned upwards after hitting the low of 560 USD per Bitcoin late December 21st. Then it charged back up to \n",
    "            around 660 to 680 USD per Bitcoin in mid December 22nd. Now we are back down to 614 USD which may be the \n",
    "            lowest we will go this coming week. My personal guess is that the Bitcoin-price will be 680 USD per Bitcoin \n",
    "            or even more on Monday 23rd. We could be looking at a price above 700 USD as well.''']\n",
    "\n",
    "candidate_labels_set1 = ['Cryptocurrency', 'NFT']\n",
    "candidate_labels_set2 = ['Positive', 'Negative']\n",
    "\n",
    "results_set1 = classifier(input_text, candidate_labels=candidate_labels_set1, multi_label=True)\n",
    "results_set2 = classifier(input_text, candidate_labels=candidate_labels_set2, multi_label=True)\n",
    "\n",
    "print(\"Results for Candidate Set 1:\")\n",
    "for label, score in zip(results_set1['labels'], results_set1['scores']):\n",
    "    print(f\"Label: {label}, Score: {score:.4f}\")\n",
    "\n",
    "print(\"\\nResults for Candidate Set 2:\")\n",
    "for label, score in zip(results_set2['labels'], results_set2['scores']):\n",
    "    print(f\"Label: {label}, Score: {score:.4f}\")\n"
   ]
  },
  {
   "cell_type": "code",
   "execution_count": 22,
   "id": "963f9e94",
   "metadata": {},
   "outputs": [
    {
     "name": "stderr",
     "output_type": "stream",
     "text": [
      "No model was supplied, defaulted to facebook/bart-large-mnli and revision c626438 (https://huggingface.co/facebook/bart-large-mnli).\n",
      "Using a pipeline without specifying a model name and revision in production is not recommended.\n"
     ]
    },
    {
     "name": "stdout",
     "output_type": "stream",
     "text": [
      "Results for Candidate Set 1:\n",
      "Label: Cryptocurrency, Score: 0.9920\n",
      "Label: NFT, Score: 0.6267\n",
      "\n",
      "Results for Candidate Set 2:\n",
      "Label: Positive, Score: 0.5417\n",
      "Label: Negative, Score: 0.3353\n"
     ]
    }
   ],
   "source": [
    "from transformers import pipeline\n",
    "\n",
    "classifier = pipeline('zero-shot-classification')\n",
    "\n",
    "input_text = ['''Bitcoin has a tendency to spike on Monday and Tuesdays after a quiet weekend with little news. \n",
    "            New money is flowing into the different Bitcoin-exchanges and people want more action. \n",
    "            This time it is a bit special since its the little Christmas eve. I believe that Bitcoin might \n",
    "            rise with more than 10% on Monday. Will Bitcoin rise to 700 USD? As you can see from the graph above, the \n",
    "            lowest price-level of Bitcoin looks like to be around 580 USD per Bitcoin. The Bitcoin trend seems to have \n",
    "            turned upwards after hitting the low of 560 USD per Bitcoin late December 21st. Then it charged back up to \n",
    "            around 660 to 680 USD per Bitcoin in mid December 22nd. Now we are back down to 614 USD which may be the \n",
    "            lowest we will go this coming week. My personal guess is that the Bitcoin-price will be 680 USD per Bitcoin \n",
    "            or even more on Monday 23rd. We could be looking at a price above 700 USD as well.''']\n",
    "\n",
    "candidate_labels_set1 = ['Cryptocurrency', 'NFT']\n",
    "candidate_labels_set2 = ['Positive', 'Negative']\n",
    "\n",
    "results_set1 = classifier(input_text, candidate_labels=candidate_labels_set1, multi_label=True)\n",
    "results_set2 = classifier(input_text, candidate_labels=candidate_labels_set2, multi_label=True)\n",
    "\n",
    "print(\"Results for Candidate Set 1:\")\n",
    "for label, score in zip(results_set1[0]['labels'], results_set1[0]['scores']):\n",
    "    print(f\"Label: {label}, Score: {score:.4f}\")\n",
    "\n",
    "print(\"\\nResults for Candidate Set 2:\")\n",
    "for label, score in zip(results_set2[0]['labels'], results_set2[0]['scores']):\n",
    "    print(f\"Label: {label}, Score: {score:.4f}\")\n"
   ]
  },
  {
   "cell_type": "code",
   "execution_count": 24,
   "id": "a077a18a",
   "metadata": {},
   "outputs": [
    {
     "name": "stderr",
     "output_type": "stream",
     "text": [
      "No model was supplied, defaulted to facebook/bart-large-mnli and revision c626438 (https://huggingface.co/facebook/bart-large-mnli).\n",
      "Using a pipeline without specifying a model name and revision in production is not recommended.\n"
     ]
    },
    {
     "name": "stdout",
     "output_type": "stream",
     "text": [
      "Cryptocurrency\n",
      "Positive\n"
     ]
    }
   ],
   "source": [
    "from transformers import pipeline\n",
    "\n",
    "classifier = pipeline('zero-shot-classification')\n",
    "\n",
    "input_text = ['''Bitcoin has a tendency to spike on Monday and Tuesdays after a quiet weekend with little news. \n",
    "            New money is flowing into the different Bitcoin-exchanges and people want more action. \n",
    "            This time it is a bit special since its the little Christmas eve. I believe that Bitcoin might \n",
    "            rise with more than 10% on Monday. Will Bitcoin rise to 700 USD? As you can see from the graph above, the \n",
    "            lowest price-level of Bitcoin looks like to be around 580 USD per Bitcoin. The Bitcoin trend seems to have \n",
    "            turned upwards after hitting the low of 560 USD per Bitcoin late December 21st. Then it charged back up to \n",
    "            around 660 to 680 USD per Bitcoin in mid December 22nd. Now we are back down to 614 USD which may be the \n",
    "            lowest we will go this coming week. My personal guess is that the Bitcoin-price will be 680 USD per Bitcoin \n",
    "            or even more on Monday 23rd. We could be looking at a price above 700 USD as well.''']\n",
    "\n",
    "candidate_labels_set1 = ['Cryptocurrency', 'NFT']\n",
    "candidate_labels_set2 = ['Positive', 'Negative']\n",
    "\n",
    "results_set1 = classifier(input_text, candidate_labels=candidate_labels_set1, multi_label=True)\n",
    "results_set2 = classifier(input_text, candidate_labels=candidate_labels_set2, multi_label=True)\n",
    "\n",
    "highest_score_label_set1 = results_set1[0]['labels'][0]\n",
    "highest_score_label_set2 = results_set2[0]['labels'][0]\n",
    "\n",
    "print(highest_score_label_set1)\n",
    "print(highest_score_label_set2)\n"
   ]
  },
  {
   "cell_type": "code",
   "execution_count": 25,
   "id": "6730e036",
   "metadata": {},
   "outputs": [
    {
     "name": "stderr",
     "output_type": "stream",
     "text": [
      "No model was supplied, defaulted to facebook/bart-large-mnli and revision c626438 (https://huggingface.co/facebook/bart-large-mnli).\n",
      "Using a pipeline without specifying a model name and revision in production is not recommended.\n"
     ]
    },
    {
     "ename": "TypeError",
     "evalue": "list indices must be integers or slices, not str",
     "output_type": "error",
     "traceback": [
      "\u001b[1;31m---------------------------------------------------------------------------\u001b[0m",
      "\u001b[1;31mTypeError\u001b[0m                                 Traceback (most recent call last)",
      "Cell \u001b[1;32mIn[25], line 21\u001b[0m\n\u001b[0;32m     18\u001b[0m results_set1 \u001b[38;5;241m=\u001b[39m classifier(input_text, candidate_labels\u001b[38;5;241m=\u001b[39mcandidate_labels_set1, multi_label\u001b[38;5;241m=\u001b[39m\u001b[38;5;28;01mFalse\u001b[39;00m)\n\u001b[0;32m     19\u001b[0m results_set2 \u001b[38;5;241m=\u001b[39m classifier(input_text, candidate_labels\u001b[38;5;241m=\u001b[39mcandidate_labels_set2, multi_label\u001b[38;5;241m=\u001b[39m\u001b[38;5;28;01mFalse\u001b[39;00m)\n\u001b[1;32m---> 21\u001b[0m highest_score_label_set1 \u001b[38;5;241m=\u001b[39m \u001b[38;5;28mmax\u001b[39m(\u001b[43mresults_set1\u001b[49m\u001b[43m[\u001b[49m\u001b[38;5;124;43m'\u001b[39;49m\u001b[38;5;124;43mscores\u001b[39;49m\u001b[38;5;124;43m'\u001b[39;49m\u001b[43m]\u001b[49m)\n\u001b[0;32m     22\u001b[0m highest_score_label_set2 \u001b[38;5;241m=\u001b[39m \u001b[38;5;28mmax\u001b[39m(results_set2[\u001b[38;5;124m'\u001b[39m\u001b[38;5;124mscores\u001b[39m\u001b[38;5;124m'\u001b[39m])\n\u001b[0;32m     24\u001b[0m label_with_highest_score_set1 \u001b[38;5;241m=\u001b[39m candidate_labels_set1[results_set1[\u001b[38;5;124m'\u001b[39m\u001b[38;5;124mscores\u001b[39m\u001b[38;5;124m'\u001b[39m]\u001b[38;5;241m.\u001b[39mindex(highest_score_label_set1)]\n",
      "\u001b[1;31mTypeError\u001b[0m: list indices must be integers or slices, not str"
     ]
    }
   ],
   "source": [
    "from transformers import pipeline\n",
    "\n",
    "classifier = pipeline('zero-shot-classification')\n",
    "\n",
    "input_text = ['''Bitcoin has a tendency to spike on Monday and Tuesdays after a quiet weekend with little news. \n",
    "            New money is flowing into the different Bitcoin-exchanges and people want more action. \n",
    "            This time it is a bit special since its the little Christmas eve. I believe that Bitcoin might \n",
    "            rise with more than 10% on Monday. Will Bitcoin rise to 700 USD? As you can see from the graph above, the \n",
    "            lowest price-level of Bitcoin looks like to be around 580 USD per Bitcoin. The Bitcoin trend seems to have \n",
    "            turned upwards after hitting the low of 560 USD per Bitcoin late December 21st. Then it charged back up to \n",
    "            around 660 to 680 USD per Bitcoin in mid December 22nd. Now we are back down to 614 USD which may be the \n",
    "            lowest we will go this coming week. My personal guess is that the Bitcoin-price will be 680 USD per Bitcoin \n",
    "            or even more on Monday 23rd. We could be looking at a price above 700 USD as well.''']\n",
    "\n",
    "candidate_labels_set1 = ['Cryptocurrency', 'NFT']\n",
    "candidate_labels_set2 = ['Positive', 'Negative']\n",
    "\n",
    "results_set1 = classifier(input_text, candidate_labels=candidate_labels_set1, multi_label=False)\n",
    "results_set2 = classifier(input_text, candidate_labels=candidate_labels_set2, multi_label=False)\n",
    "\n",
    "highest_score_label_set1 = max(results_set1['scores'])\n",
    "highest_score_label_set2 = max(results_set2['scores'])\n",
    "\n",
    "label_with_highest_score_set1 = candidate_labels_set1[results_set1['scores'].index(highest_score_label_set1)]\n",
    "label_with_highest_score_set2 = candidate_labels_set2[results_set2['scores'].index(highest_score_label_set2)]\n",
    "\n",
    "print(\"Highest score label from Candidate Set 1:\", label_with_highest_score_set1)\n",
    "print(\"Highest score label from Candidate Set 2:\", label_with_highest_score_set2)\n"
   ]
  },
  {
   "cell_type": "code",
   "execution_count": 1,
   "id": "fc14ea88",
   "metadata": {},
   "outputs": [
    {
     "name": "stderr",
     "output_type": "stream",
     "text": [
      "No model was supplied, defaulted to facebook/bart-large-mnli and revision c626438 (https://huggingface.co/facebook/bart-large-mnli).\n",
      "Using a pipeline without specifying a model name and revision in production is not recommended.\n"
     ]
    },
    {
     "ename": "TypeError",
     "evalue": "list indices must be integers or slices, not str",
     "output_type": "error",
     "traceback": [
      "\u001b[1;31m---------------------------------------------------------------------------\u001b[0m",
      "\u001b[1;31mTypeError\u001b[0m                                 Traceback (most recent call last)",
      "Cell \u001b[1;32mIn[1], line 21\u001b[0m\n\u001b[0;32m     18\u001b[0m results_set1 \u001b[38;5;241m=\u001b[39m classifier(input_text, candidate_labels\u001b[38;5;241m=\u001b[39mcandidate_labels_set1, multi_label\u001b[38;5;241m=\u001b[39m\u001b[38;5;28;01mFalse\u001b[39;00m)\n\u001b[0;32m     19\u001b[0m results_set2 \u001b[38;5;241m=\u001b[39m classifier(input_text, candidate_labels\u001b[38;5;241m=\u001b[39mcandidate_labels_set2, multi_label\u001b[38;5;241m=\u001b[39m\u001b[38;5;28;01mFalse\u001b[39;00m)\n\u001b[1;32m---> 21\u001b[0m highest_score_index_set1 \u001b[38;5;241m=\u001b[39m \u001b[43mresults_set1\u001b[49m\u001b[43m[\u001b[49m\u001b[38;5;124;43m'\u001b[39;49m\u001b[38;5;124;43mscores\u001b[39;49m\u001b[38;5;124;43m'\u001b[39;49m\u001b[43m]\u001b[49m\u001b[38;5;241m.\u001b[39mindex(\u001b[38;5;28mmax\u001b[39m(results_set1[\u001b[38;5;124m'\u001b[39m\u001b[38;5;124mscores\u001b[39m\u001b[38;5;124m'\u001b[39m]))\n\u001b[0;32m     22\u001b[0m highest_score_label_set1 \u001b[38;5;241m=\u001b[39m candidate_labels_set1[highest_score_index_set1]\n\u001b[0;32m     24\u001b[0m highest_score_index_set2 \u001b[38;5;241m=\u001b[39m results_set2[\u001b[38;5;124m'\u001b[39m\u001b[38;5;124mscores\u001b[39m\u001b[38;5;124m'\u001b[39m]\u001b[38;5;241m.\u001b[39mindex(\u001b[38;5;28mmax\u001b[39m(results_set2[\u001b[38;5;124m'\u001b[39m\u001b[38;5;124mscores\u001b[39m\u001b[38;5;124m'\u001b[39m]))\n",
      "\u001b[1;31mTypeError\u001b[0m: list indices must be integers or slices, not str"
     ]
    }
   ],
   "source": [
    "from transformers import pipeline\n",
    "\n",
    "classifier = pipeline('zero-shot-classification')\n",
    "\n",
    "input_text = ['''Bitcoin has a tendency to spike on Monday and Tuesdays after a quiet weekend with little news. \n",
    "            New money is flowing into the different Bitcoin-exchanges and people want more action. \n",
    "            This time it is a bit special since its the little Christmas eve. I believe that Bitcoin might \n",
    "            rise with more than 10% on Monday. Will Bitcoin rise to 700 USD? As you can see from the graph above, the \n",
    "            lowest price-level of Bitcoin looks like to be around 580 USD per Bitcoin. The Bitcoin trend seems to have \n",
    "            turned upwards after hitting the low of 560 USD per Bitcoin late December 21st. Then it charged back up to \n",
    "            around 660 to 680 USD per Bitcoin in mid December 22nd. Now we are back down to 614 USD which may be the \n",
    "            lowest we will go this coming week. My personal guess is that the Bitcoin-price will be 680 USD per Bitcoin \n",
    "            or even more on Monday 23rd. We could be looking at a price above 700 USD as well.''']\n",
    "\n",
    "candidate_labels_set1 = ['Cryptocurrency', 'NFT']\n",
    "candidate_labels_set2 = ['Positive', 'Negative']\n",
    "\n",
    "results_set1 = classifier(input_text, candidate_labels=candidate_labels_set1, multi_label=False)\n",
    "results_set2 = classifier(input_text, candidate_labels=candidate_labels_set2, multi_label=False)\n",
    "\n",
    "highest_score_index_set1 = results_set1['scores'].index(max(results_set1['scores']))\n",
    "highest_score_label_set1 = candidate_labels_set1[highest_score_index_set1]\n",
    "\n",
    "highest_score_index_set2 = results_set2['scores'].index(max(results_set2['scores']))\n",
    "highest_score_label_set2 = candidate_labels_set2[highest_score_index_set2]\n",
    "\n",
    "print(\"Highest score label from Candidate Set 1:\", highest_score_label_set1)\n",
    "print(\"Highest score label from Candidate Set 2:\", highest_score_label_set2)\n"
   ]
  },
  {
   "cell_type": "code",
   "execution_count": null,
   "id": "2eb21f49",
   "metadata": {},
   "outputs": [],
   "source": []
  }
 ],
 "metadata": {
  "kernelspec": {
   "display_name": "Python 3 (ipykernel)",
   "language": "python",
   "name": "python3"
  },
  "language_info": {
   "codemirror_mode": {
    "name": "ipython",
    "version": 3
   },
   "file_extension": ".py",
   "mimetype": "text/x-python",
   "name": "python",
   "nbconvert_exporter": "python",
   "pygments_lexer": "ipython3",
   "version": "3.9.16"
  }
 },
 "nbformat": 4,
 "nbformat_minor": 5
}
